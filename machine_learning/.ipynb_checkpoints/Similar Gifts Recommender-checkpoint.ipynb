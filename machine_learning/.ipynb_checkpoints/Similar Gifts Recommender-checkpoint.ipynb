{
 "cells": [
  {
   "cell_type": "markdown",
   "metadata": {},
   "source": [
    "# Similar Gift Recommender"
   ]
  },
  {
   "cell_type": "code",
   "execution_count": 1,
   "metadata": {
    "collapsed": true
   },
   "outputs": [],
   "source": [
    "import graphlab"
   ]
  },
  {
   "cell_type": "code",
   "execution_count": 2,
   "metadata": {
    "collapsed": false
   },
   "outputs": [
    {
     "name": "stdout",
     "output_type": "stream",
     "text": [
      "This non-commercial license of GraphLab Create for academic use is assigned to daniel.j.groch@gmail.com and will expire on August 20, 2017.\n"
     ]
    },
    {
     "name": "stderr",
     "output_type": "stream",
     "text": [
      "[INFO] graphlab.cython.cy_server: GraphLab Create v2.1 started. Logging: /tmp/graphlab_server_1477855349.log\n"
     ]
    },
    {
     "data": {
      "text/html": [
       "<pre>Finished parsing file /home/nitrous/education/coursera/machine_learning/gifts.json</pre>"
      ],
      "text/plain": [
       "Finished parsing file /home/nitrous/education/coursera/machine_learning/gifts.json"
      ]
     },
     "metadata": {},
     "output_type": "display_data"
    },
    {
     "data": {
      "text/html": [
       "<pre>Parsing completed. Parsed 1 lines in 0.176313 secs.</pre>"
      ],
      "text/plain": [
       "Parsing completed. Parsed 1 lines in 0.176313 secs."
      ]
     },
     "metadata": {},
     "output_type": "display_data"
    }
   ],
   "source": [
    "elastic_results = graphlab.SFrame.read_json('gifts.json', orient='records')"
   ]
  },
  {
   "cell_type": "code",
   "execution_count": 3,
   "metadata": {
    "collapsed": false
   },
   "outputs": [],
   "source": [
    "gifts = elastic_results['_source']"
   ]
  },
  {
   "cell_type": "code",
   "execution_count": 4,
   "metadata": {
    "collapsed": false
   },
   "outputs": [],
   "source": [
    "gifts_sf = graphlab.SFrame(data=gifts)"
   ]
  },
  {
   "cell_type": "code",
   "execution_count": 5,
   "metadata": {
    "collapsed": false
   },
   "outputs": [],
   "source": [
    "gifts_sf = gifts_sf.unpack('X1')"
   ]
  },
  {
   "cell_type": "code",
   "execution_count": 6,
   "metadata": {
    "collapsed": false
   },
   "outputs": [
    {
     "data": {
      "text/html": [
       "<div style=\"max-height:1000px;max-width:1500px;overflow:auto;\"><table frame=\"box\" rules=\"cols\">\n",
       "    <tr>\n",
       "        <th style=\"padding-left: 1em; padding-right: 1em; text-align: center\">X1.brand</th>\n",
       "        <th style=\"padding-left: 1em; padding-right: 1em; text-align: center\">X1.currency</th>\n",
       "        <th style=\"padding-left: 1em; padding-right: 1em; text-align: center\">X1.description</th>\n",
       "        <th style=\"padding-left: 1em; padding-right: 1em; text-align: center\">X1.galleryImages</th>\n",
       "        <th style=\"padding-left: 1em; padding-right: 1em; text-align: center\">X1.personality</th>\n",
       "    </tr>\n",
       "    <tr>\n",
       "        <td style=\"padding-left: 1em; padding-right: 1em; text-align: center; vertical-align: top\">Zaia</td>\n",
       "        <td style=\"padding-left: 1em; padding-right: 1em; text-align: center; vertical-align: top\">AUD</td>\n",
       "        <td style=\"padding-left: 1em; padding-right: 1em; text-align: center; vertical-align: top\">Some are born to do<br>things differently. \\nA ...</td>\n",
       "        <td style=\"padding-left: 1em; padding-right: 1em; text-align: center; vertical-align: top\">[https://hardtofind.imgix<br>.net/hardtofind/image ...</td>\n",
       "        <td style=\"padding-left: 1em; padding-right: 1em; text-align: center; vertical-align: top\">Style Guru</td>\n",
       "    </tr>\n",
       "    <tr>\n",
       "        <td style=\"padding-left: 1em; padding-right: 1em; text-align: center; vertical-align: top\">scoolbikes</td>\n",
       "        <td style=\"padding-left: 1em; padding-right: 1em; text-align: center; vertical-align: top\">AUD</td>\n",
       "        <td style=\"padding-left: 1em; padding-right: 1em; text-align: center; vertical-align: top\">The pedeX 01 balance bike<br>weighs only 3.3kg thr ...</td>\n",
       "        <td style=\"padding-left: 1em; padding-right: 1em; text-align: center; vertical-align: top\">[https://hardtofind.imgix<br>.net/hardtofind/image ...</td>\n",
       "        <td style=\"padding-left: 1em; padding-right: 1em; text-align: center; vertical-align: top\">Sporty</td>\n",
       "    </tr>\n",
       "    <tr>\n",
       "        <td style=\"padding-left: 1em; padding-right: 1em; text-align: center; vertical-align: top\">Sweet William</td>\n",
       "        <td style=\"padding-left: 1em; padding-right: 1em; text-align: center; vertical-align: top\">AUD</td>\n",
       "        <td style=\"padding-left: 1em; padding-right: 1em; text-align: center; vertical-align: top\">This is an archival print<br>of an original pen and ...</td>\n",
       "        <td style=\"padding-left: 1em; padding-right: 1em; text-align: center; vertical-align: top\">[https://hardtofind.imgix<br>.net/hardtofind/image ...</td>\n",
       "        <td style=\"padding-left: 1em; padding-right: 1em; text-align: center; vertical-align: top\">Art Lover</td>\n",
       "    </tr>\n",
       "    <tr>\n",
       "        <td style=\"padding-left: 1em; padding-right: 1em; text-align: center; vertical-align: top\">Zoomatech</td>\n",
       "        <td style=\"padding-left: 1em; padding-right: 1em; text-align: center; vertical-align: top\">AUD</td>\n",
       "        <td style=\"padding-left: 1em; padding-right: 1em; text-align: center; vertical-align: top\">Formule 1 vintage poster<br>1988 by French artist ...</td>\n",
       "        <td style=\"padding-left: 1em; padding-right: 1em; text-align: center; vertical-align: top\">[https://hardtofind.imgix<br>.net/hardtofind/image ...</td>\n",
       "        <td style=\"padding-left: 1em; padding-right: 1em; text-align: center; vertical-align: top\">Art Lover</td>\n",
       "    </tr>\n",
       "    <tr>\n",
       "        <td style=\"padding-left: 1em; padding-right: 1em; text-align: center; vertical-align: top\">Anasazi Trading Pty Ltd</td>\n",
       "        <td style=\"padding-left: 1em; padding-right: 1em; text-align: center; vertical-align: top\">AUD</td>\n",
       "        <td style=\"padding-left: 1em; padding-right: 1em; text-align: center; vertical-align: top\">This ceramic pitcher with<br>signature Multi Stem ...</td>\n",
       "        <td style=\"padding-left: 1em; padding-right: 1em; text-align: center; vertical-align: top\">[https://hardtofind.imgix<br>.net/hardtofind/image ...</td>\n",
       "        <td style=\"padding-left: 1em; padding-right: 1em; text-align: center; vertical-align: top\">House Proud</td>\n",
       "    </tr>\n",
       "    <tr>\n",
       "        <td style=\"padding-left: 1em; padding-right: 1em; text-align: center; vertical-align: top\">R&amp;D Media Group</td>\n",
       "        <td style=\"padding-left: 1em; padding-right: 1em; text-align: center; vertical-align: top\">AUD</td>\n",
       "        <td style=\"padding-left: 1em; padding-right: 1em; text-align: center; vertical-align: top\">Multi-functional smart<br>cover suitable for the ...</td>\n",
       "        <td style=\"padding-left: 1em; padding-right: 1em; text-align: center; vertical-align: top\">[https://hardtofind.imgix<br>.net/hardtofind/image ...</td>\n",
       "        <td style=\"padding-left: 1em; padding-right: 1em; text-align: center; vertical-align: top\">Tech Savvy</td>\n",
       "    </tr>\n",
       "    <tr>\n",
       "        <td style=\"padding-left: 1em; padding-right: 1em; text-align: center; vertical-align: top\">R&amp;D Media Group</td>\n",
       "        <td style=\"padding-left: 1em; padding-right: 1em; text-align: center; vertical-align: top\">AUD</td>\n",
       "        <td style=\"padding-left: 1em; padding-right: 1em; text-align: center; vertical-align: top\">With this deluxe case we<br>offer excellent quality ...</td>\n",
       "        <td style=\"padding-left: 1em; padding-right: 1em; text-align: center; vertical-align: top\">[https://hardtofind.imgix<br>.net/hardtofind/image ...</td>\n",
       "        <td style=\"padding-left: 1em; padding-right: 1em; text-align: center; vertical-align: top\">Tech Savvy</td>\n",
       "    </tr>\n",
       "    <tr>\n",
       "        <td style=\"padding-left: 1em; padding-right: 1em; text-align: center; vertical-align: top\">TNS Distribution<br>Australia ...</td>\n",
       "        <td style=\"padding-left: 1em; padding-right: 1em; text-align: center; vertical-align: top\">AUD</td>\n",
       "        <td style=\"padding-left: 1em; padding-right: 1em; text-align: center; vertical-align: top\">Drop Tech sleeve for<br>Macbook 11''.\\nThe Drop ...</td>\n",
       "        <td style=\"padding-left: 1em; padding-right: 1em; text-align: center; vertical-align: top\">[https://hardtofind.imgix<br>.net/hardtofind/image ...</td>\n",
       "        <td style=\"padding-left: 1em; padding-right: 1em; text-align: center; vertical-align: top\">Tech Savvy</td>\n",
       "    </tr>\n",
       "    <tr>\n",
       "        <td style=\"padding-left: 1em; padding-right: 1em; text-align: center; vertical-align: top\">TNS Distribution<br>Australia ...</td>\n",
       "        <td style=\"padding-left: 1em; padding-right: 1em; text-align: center; vertical-align: top\">AUD</td>\n",
       "        <td style=\"padding-left: 1em; padding-right: 1em; text-align: center; vertical-align: top\">* 13 Anti-shock water<br>resistant EVA protective ...</td>\n",
       "        <td style=\"padding-left: 1em; padding-right: 1em; text-align: center; vertical-align: top\">[https://hardtofind.imgix<br>.net/hardtofind/image ...</td>\n",
       "        <td style=\"padding-left: 1em; padding-right: 1em; text-align: center; vertical-align: top\">Tech Savvy</td>\n",
       "    </tr>\n",
       "    <tr>\n",
       "        <td style=\"padding-left: 1em; padding-right: 1em; text-align: center; vertical-align: top\">Echelon Products</td>\n",
       "        <td style=\"padding-left: 1em; padding-right: 1em; text-align: center; vertical-align: top\">AUD</td>\n",
       "        <td style=\"padding-left: 1em; padding-right: 1em; text-align: center; vertical-align: top\">This elegant 12 bottle<br>wine rack makes a ...</td>\n",
       "        <td style=\"padding-left: 1em; padding-right: 1em; text-align: center; vertical-align: top\">[https://hardtofind.imgix<br>.net/hardtofind/image ...</td>\n",
       "        <td style=\"padding-left: 1em; padding-right: 1em; text-align: center; vertical-align: top\">Foodie</td>\n",
       "    </tr>\n",
       "</table>\n",
       "<table frame=\"box\" rules=\"cols\">\n",
       "    <tr>\n",
       "        <th style=\"padding-left: 1em; padding-right: 1em; text-align: center\">X1.price</th>\n",
       "        <th style=\"padding-left: 1em; padding-right: 1em; text-align: center\">X1.purchaseUrl</th>\n",
       "        <th style=\"padding-left: 1em; padding-right: 1em; text-align: center\">X1.ratingValue</th>\n",
       "        <th style=\"padding-left: 1em; padding-right: 1em; text-align: center\">X1.reviewCount</th>\n",
       "        <th style=\"padding-left: 1em; padding-right: 1em; text-align: center\">X1.sku</th>\n",
       "        <th style=\"padding-left: 1em; padding-right: 1em; text-align: center\">X1.source</th>\n",
       "    </tr>\n",
       "    <tr>\n",
       "        <td style=\"padding-left: 1em; padding-right: 1em; text-align: center; vertical-align: top\">147.9</td>\n",
       "        <td style=\"padding-left: 1em; padding-right: 1em; text-align: center; vertical-align: top\">https://www.hardtofind.co<br>m.au/99792_hypergrand-01 ...</td>\n",
       "        <td style=\"padding-left: 1em; padding-right: 1em; text-align: center; vertical-align: top\">0</td>\n",
       "        <td style=\"padding-left: 1em; padding-right: 1em; text-align: center; vertical-align: top\">0</td>\n",
       "        <td style=\"padding-left: 1em; padding-right: 1em; text-align: center; vertical-align: top\">9979201</td>\n",
       "        <td style=\"padding-left: 1em; padding-right: 1em; text-align: center; vertical-align: top\">Hardtofind</td>\n",
       "    </tr>\n",
       "    <tr>\n",
       "        <td style=\"padding-left: 1em; padding-right: 1em; text-align: center; vertical-align: top\">171.75</td>\n",
       "        <td style=\"padding-left: 1em; padding-right: 1em; text-align: center; vertical-align: top\">https://www.hardtofind.co<br>m.au/105980_pedex-01 ...</td>\n",
       "        <td style=\"padding-left: 1em; padding-right: 1em; text-align: center; vertical-align: top\">0</td>\n",
       "        <td style=\"padding-left: 1em; padding-right: 1em; text-align: center; vertical-align: top\">0</td>\n",
       "        <td style=\"padding-left: 1em; padding-right: 1em; text-align: center; vertical-align: top\">10598001</td>\n",
       "        <td style=\"padding-left: 1em; padding-right: 1em; text-align: center; vertical-align: top\">Hardtofind</td>\n",
       "    </tr>\n",
       "    <tr>\n",
       "        <td style=\"padding-left: 1em; padding-right: 1em; text-align: center; vertical-align: top\">30.0</td>\n",
       "        <td style=\"padding-left: 1em; padding-right: 1em; text-align: center; vertical-align: top\">https://www.hardtofind.co<br>m.au/54551_geometric- ...</td>\n",
       "        <td style=\"padding-left: 1em; padding-right: 1em; text-align: center; vertical-align: top\">0</td>\n",
       "        <td style=\"padding-left: 1em; padding-right: 1em; text-align: center; vertical-align: top\">0</td>\n",
       "        <td style=\"padding-left: 1em; padding-right: 1em; text-align: center; vertical-align: top\">545511</td>\n",
       "        <td style=\"padding-left: 1em; padding-right: 1em; text-align: center; vertical-align: top\">Hardtofind</td>\n",
       "    </tr>\n",
       "    <tr>\n",
       "        <td style=\"padding-left: 1em; padding-right: 1em; text-align: center; vertical-align: top\">71.5</td>\n",
       "        <td style=\"padding-left: 1em; padding-right: 1em; text-align: center; vertical-align: top\">https://www.hardtofind.co<br>m.au/30397_formule-1 ...</td>\n",
       "        <td style=\"padding-left: 1em; padding-right: 1em; text-align: center; vertical-align: top\">0</td>\n",
       "        <td style=\"padding-left: 1em; padding-right: 1em; text-align: center; vertical-align: top\">0</td>\n",
       "        <td style=\"padding-left: 1em; padding-right: 1em; text-align: center; vertical-align: top\">303971</td>\n",
       "        <td style=\"padding-left: 1em; padding-right: 1em; text-align: center; vertical-align: top\">Hardtofind</td>\n",
       "    </tr>\n",
       "    <tr>\n",
       "        <td style=\"padding-left: 1em; padding-right: 1em; text-align: center; vertical-align: top\">79.95</td>\n",
       "        <td style=\"padding-left: 1em; padding-right: 1em; text-align: center; vertical-align: top\">https://www.hardtofind.co<br>m.au/80303_orla-kiely- ...</td>\n",
       "        <td style=\"padding-left: 1em; padding-right: 1em; text-align: center; vertical-align: top\">0</td>\n",
       "        <td style=\"padding-left: 1em; padding-right: 1em; text-align: center; vertical-align: top\">0</td>\n",
       "        <td style=\"padding-left: 1em; padding-right: 1em; text-align: center; vertical-align: top\">8030315</td>\n",
       "        <td style=\"padding-left: 1em; padding-right: 1em; text-align: center; vertical-align: top\">Hardtofind</td>\n",
       "    </tr>\n",
       "    <tr>\n",
       "        <td style=\"padding-left: 1em; padding-right: 1em; text-align: center; vertical-align: top\">69.95</td>\n",
       "        <td style=\"padding-left: 1em; padding-right: 1em; text-align: center; vertical-align: top\">https://www.hardtofind.co<br>m.au/84749_slimfit-case- ...</td>\n",
       "        <td style=\"padding-left: 1em; padding-right: 1em; text-align: center; vertical-align: top\">0</td>\n",
       "        <td style=\"padding-left: 1em; padding-right: 1em; text-align: center; vertical-align: top\">0</td>\n",
       "        <td style=\"padding-left: 1em; padding-right: 1em; text-align: center; vertical-align: top\">8474910</td>\n",
       "        <td style=\"padding-left: 1em; padding-right: 1em; text-align: center; vertical-align: top\">Hardtofind</td>\n",
       "    </tr>\n",
       "    <tr>\n",
       "        <td style=\"padding-left: 1em; padding-right: 1em; text-align: center; vertical-align: top\">69.95</td>\n",
       "        <td style=\"padding-left: 1em; padding-right: 1em; text-align: center; vertical-align: top\">https://www.hardtofind.co<br>m.au/84756_deluxe- ...</td>\n",
       "        <td style=\"padding-left: 1em; padding-right: 1em; text-align: center; vertical-align: top\">0</td>\n",
       "        <td style=\"padding-left: 1em; padding-right: 1em; text-align: center; vertical-align: top\">0</td>\n",
       "        <td style=\"padding-left: 1em; padding-right: 1em; text-align: center; vertical-align: top\">8475610</td>\n",
       "        <td style=\"padding-left: 1em; padding-right: 1em; text-align: center; vertical-align: top\">Hardtofind</td>\n",
       "    </tr>\n",
       "    <tr>\n",
       "        <td style=\"padding-left: 1em; padding-right: 1em; text-align: center; vertical-align: top\">79.95</td>\n",
       "        <td style=\"padding-left: 1em; padding-right: 1em; text-align: center; vertical-align: top\">https://www.hardtofind.co<br>m.au/67781_gumdrop- ...</td>\n",
       "        <td style=\"padding-left: 1em; padding-right: 1em; text-align: center; vertical-align: top\">0</td>\n",
       "        <td style=\"padding-left: 1em; padding-right: 1em; text-align: center; vertical-align: top\">0</td>\n",
       "        <td style=\"padding-left: 1em; padding-right: 1em; text-align: center; vertical-align: top\">6778111</td>\n",
       "        <td style=\"padding-left: 1em; padding-right: 1em; text-align: center; vertical-align: top\">Hardtofind</td>\n",
       "    </tr>\n",
       "    <tr>\n",
       "        <td style=\"padding-left: 1em; padding-right: 1em; text-align: center; vertical-align: top\">199.95</td>\n",
       "        <td style=\"padding-left: 1em; padding-right: 1em; text-align: center; vertical-align: top\">https://www.hardtofind.co<br>m.au/93198_jivo-go-gear- ...</td>\n",
       "        <td style=\"padding-left: 1em; padding-right: 1em; text-align: center; vertical-align: top\">0</td>\n",
       "        <td style=\"padding-left: 1em; padding-right: 1em; text-align: center; vertical-align: top\">0</td>\n",
       "        <td style=\"padding-left: 1em; padding-right: 1em; text-align: center; vertical-align: top\">9319811</td>\n",
       "        <td style=\"padding-left: 1em; padding-right: 1em; text-align: center; vertical-align: top\">Hardtofind</td>\n",
       "    </tr>\n",
       "    <tr>\n",
       "        <td style=\"padding-left: 1em; padding-right: 1em; text-align: center; vertical-align: top\">271.0</td>\n",
       "        <td style=\"padding-left: 1em; padding-right: 1em; text-align: center; vertical-align: top\">https://www.hardtofind.co<br>m.au/30610_wine-rack- ...</td>\n",
       "        <td style=\"padding-left: 1em; padding-right: 1em; text-align: center; vertical-align: top\">0</td>\n",
       "        <td style=\"padding-left: 1em; padding-right: 1em; text-align: center; vertical-align: top\">0</td>\n",
       "        <td style=\"padding-left: 1em; padding-right: 1em; text-align: center; vertical-align: top\">3061012</td>\n",
       "        <td style=\"padding-left: 1em; padding-right: 1em; text-align: center; vertical-align: top\">Hardtofind</td>\n",
       "    </tr>\n",
       "</table>\n",
       "<table frame=\"box\" rules=\"cols\">\n",
       "    <tr>\n",
       "        <th style=\"padding-left: 1em; padding-right: 1em; text-align: center\">X1.sourceUrl</th>\n",
       "        <th style=\"padding-left: 1em; padding-right: 1em; text-align: center\">X1.thumbnailImage</th>\n",
       "        <th style=\"padding-left: 1em; padding-right: 1em; text-align: center\">X1.title</th>\n",
       "    </tr>\n",
       "    <tr>\n",
       "        <td style=\"padding-left: 1em; padding-right: 1em; text-align: center; vertical-align: top\">https://www.hardtofind.co<br>m.au/99792_hypergrand-01 ...</td>\n",
       "        <td style=\"padding-left: 1em; padding-right: 1em; text-align: center; vertical-align: top\">https://hardtofind.imgix.<br>net/hardtofind/image/ ...</td>\n",
       "        <td style=\"padding-left: 1em; padding-right: 1em; text-align: center; vertical-align: top\">Hypergrand 01 classic<br>watch in rose grey ...</td>\n",
       "    </tr>\n",
       "    <tr>\n",
       "        <td style=\"padding-left: 1em; padding-right: 1em; text-align: center; vertical-align: top\">https://www.hardtofind.co<br>m.au/105980_pedex-01 ...</td>\n",
       "        <td style=\"padding-left: 1em; padding-right: 1em; text-align: center; vertical-align: top\">https://hardtofind.imgix.<br>net/hardtofind/image/ ...</td>\n",
       "        <td style=\"padding-left: 1em; padding-right: 1em; text-align: center; vertical-align: top\">PedeX 01 bike for<br>toddlers ...</td>\n",
       "    </tr>\n",
       "    <tr>\n",
       "        <td style=\"padding-left: 1em; padding-right: 1em; text-align: center; vertical-align: top\">https://www.hardtofind.co<br>m.au/54551_geometric- ...</td>\n",
       "        <td style=\"padding-left: 1em; padding-right: 1em; text-align: center; vertical-align: top\">https://hardtofind.imgix.<br>net/hardtofind/image/ ...</td>\n",
       "        <td style=\"padding-left: 1em; padding-right: 1em; text-align: center; vertical-align: top\">Geometric shapes no 1<br>print ...</td>\n",
       "    </tr>\n",
       "    <tr>\n",
       "        <td style=\"padding-left: 1em; padding-right: 1em; text-align: center; vertical-align: top\">https://www.hardtofind.co<br>m.au/30397_formule-1 ...</td>\n",
       "        <td style=\"padding-left: 1em; padding-right: 1em; text-align: center; vertical-align: top\">https://hardtofind.imgix.<br>net/hardtofind/image/ ...</td>\n",
       "        <td style=\"padding-left: 1em; padding-right: 1em; text-align: center; vertical-align: top\">Formule 1 vintage poster</td>\n",
       "    </tr>\n",
       "    <tr>\n",
       "        <td style=\"padding-left: 1em; padding-right: 1em; text-align: center; vertical-align: top\">https://www.hardtofind.co<br>m.au/80303_orla-kiely- ...</td>\n",
       "        <td style=\"padding-left: 1em; padding-right: 1em; text-align: center; vertical-align: top\">https://hardtofind.imgix.<br>net/hardtofind/image/ ...</td>\n",
       "        <td style=\"padding-left: 1em; padding-right: 1em; text-align: center; vertical-align: top\">Orla Kiely multi stem<br>1.5l pitcher ...</td>\n",
       "    </tr>\n",
       "    <tr>\n",
       "        <td style=\"padding-left: 1em; padding-right: 1em; text-align: center; vertical-align: top\">https://www.hardtofind.co<br>m.au/84749_slimfit-case- ...</td>\n",
       "        <td style=\"padding-left: 1em; padding-right: 1em; text-align: center; vertical-align: top\">https://hardtofind.imgix.<br>net/hardtofind/image/ ...</td>\n",
       "        <td style=\"padding-left: 1em; padding-right: 1em; text-align: center; vertical-align: top\">Slimfit case for Google<br>Nexus 10 ...</td>\n",
       "    </tr>\n",
       "    <tr>\n",
       "        <td style=\"padding-left: 1em; padding-right: 1em; text-align: center; vertical-align: top\">https://www.hardtofind.co<br>m.au/84756_deluxe- ...</td>\n",
       "        <td style=\"padding-left: 1em; padding-right: 1em; text-align: center; vertical-align: top\">https://hardtofind.imgix.<br>net/hardtofind/image/ ...</td>\n",
       "        <td style=\"padding-left: 1em; padding-right: 1em; text-align: center; vertical-align: top\">Deluxe protection cover<br>for Lenovo tab 10 ...</td>\n",
       "    </tr>\n",
       "    <tr>\n",
       "        <td style=\"padding-left: 1em; padding-right: 1em; text-align: center; vertical-align: top\">https://www.hardtofind.co<br>m.au/67781_gumdrop- ...</td>\n",
       "        <td style=\"padding-left: 1em; padding-right: 1em; text-align: center; vertical-align: top\">https://hardtofind.imgix.<br>net/hardtofind/image/ ...</td>\n",
       "        <td style=\"padding-left: 1em; padding-right: 1em; text-align: center; vertical-align: top\">Gumdrop Macbook Air/Pro<br>11-inch Drop Tech ...</td>\n",
       "    </tr>\n",
       "    <tr>\n",
       "        <td style=\"padding-left: 1em; padding-right: 1em; text-align: center; vertical-align: top\">https://www.hardtofind.co<br>m.au/93198_jivo-go-gear- ...</td>\n",
       "        <td style=\"padding-left: 1em; padding-right: 1em; text-align: center; vertical-align: top\">https://hardtofind.imgix.<br>net/hardtofind/image/ ...</td>\n",
       "        <td style=\"padding-left: 1em; padding-right: 1em; text-align: center; vertical-align: top\">Jivo go gear kit for<br>GoPro &amp; action cams (11 ...</td>\n",
       "    </tr>\n",
       "    <tr>\n",
       "        <td style=\"padding-left: 1em; padding-right: 1em; text-align: center; vertical-align: top\">https://www.hardtofind.co<br>m.au/30610_wine-rack- ...</td>\n",
       "        <td style=\"padding-left: 1em; padding-right: 1em; text-align: center; vertical-align: top\">https://hardtofind.imgix.<br>net/hardtofind/image/ ...</td>\n",
       "        <td style=\"padding-left: 1em; padding-right: 1em; text-align: center; vertical-align: top\">Wine rack for 12 bottles</td>\n",
       "    </tr>\n",
       "</table>\n",
       "[10 rows x 14 columns]<br/>\n",
       "</div>"
      ],
      "text/plain": [
       "Columns:\n",
       "\tX1.brand\tstr\n",
       "\tX1.currency\tstr\n",
       "\tX1.description\tstr\n",
       "\tX1.galleryImages\tlist\n",
       "\tX1.personality\tstr\n",
       "\tX1.price\tfloat\n",
       "\tX1.purchaseUrl\tstr\n",
       "\tX1.ratingValue\tint\n",
       "\tX1.reviewCount\tint\n",
       "\tX1.sku\tstr\n",
       "\tX1.source\tstr\n",
       "\tX1.sourceUrl\tstr\n",
       "\tX1.thumbnailImage\tstr\n",
       "\tX1.title\tstr\n",
       "\n",
       "Rows: 10\n",
       "\n",
       "Data:\n",
       "+----------------------------+-------------+-------------------------------+\n",
       "|          X1.brand          | X1.currency |         X1.description        |\n",
       "+----------------------------+-------------+-------------------------------+\n",
       "|            Zaia            |     AUD     | Some are born to do things... |\n",
       "|         scoolbikes         |     AUD     | The pedeX 01 balance bike ... |\n",
       "|       Sweet William        |     AUD     | This is an archival print ... |\n",
       "|         Zoomatech          |     AUD     | Formule 1 vintage poster 1... |\n",
       "|  Anasazi Trading Pty Ltd   |     AUD     | This ceramic pitcher with ... |\n",
       "|      R&D Media Group       |     AUD     | Multi-functional smart cov... |\n",
       "|      R&D Media Group       |     AUD     | With this deluxe case we o... |\n",
       "| TNS Distribution Australia |     AUD     | Drop Tech sleeve for Macbo... |\n",
       "| TNS Distribution Australia |     AUD     | * 13 Anti-shock water resi... |\n",
       "|      Echelon Products      |     AUD     | This elegant 12 bottle win... |\n",
       "+----------------------------+-------------+-------------------------------+\n",
       "+-------------------------------+----------------+----------+\n",
       "|        X1.galleryImages       | X1.personality | X1.price |\n",
       "+-------------------------------+----------------+----------+\n",
       "| [https://hardtofind.imgix.... |   Style Guru   |  147.9   |\n",
       "| [https://hardtofind.imgix.... |     Sporty     |  171.75  |\n",
       "| [https://hardtofind.imgix.... |   Art Lover    |   30.0   |\n",
       "| [https://hardtofind.imgix.... |   Art Lover    |   71.5   |\n",
       "| [https://hardtofind.imgix.... |  House Proud   |  79.95   |\n",
       "| [https://hardtofind.imgix.... |   Tech Savvy   |  69.95   |\n",
       "| [https://hardtofind.imgix.... |   Tech Savvy   |  69.95   |\n",
       "| [https://hardtofind.imgix.... |   Tech Savvy   |  79.95   |\n",
       "| [https://hardtofind.imgix.... |   Tech Savvy   |  199.95  |\n",
       "| [https://hardtofind.imgix.... |     Foodie     |  271.0   |\n",
       "+-------------------------------+----------------+----------+\n",
       "+-------------------------------+----------------+----------------+----------+\n",
       "|         X1.purchaseUrl        | X1.ratingValue | X1.reviewCount |  X1.sku  |\n",
       "+-------------------------------+----------------+----------------+----------+\n",
       "| https://www.hardtofind.com... |       0        |       0        | 9979201  |\n",
       "| https://www.hardtofind.com... |       0        |       0        | 10598001 |\n",
       "| https://www.hardtofind.com... |       0        |       0        |  545511  |\n",
       "| https://www.hardtofind.com... |       0        |       0        |  303971  |\n",
       "| https://www.hardtofind.com... |       0        |       0        | 8030315  |\n",
       "| https://www.hardtofind.com... |       0        |       0        | 8474910  |\n",
       "| https://www.hardtofind.com... |       0        |       0        | 8475610  |\n",
       "| https://www.hardtofind.com... |       0        |       0        | 6778111  |\n",
       "| https://www.hardtofind.com... |       0        |       0        | 9319811  |\n",
       "| https://www.hardtofind.com... |       0        |       0        | 3061012  |\n",
       "+-------------------------------+----------------+----------------+----------+\n",
       "+------------+-------------------------------+-------------------------------+\n",
       "| X1.source  |          X1.sourceUrl         |       X1.thumbnailImage       |\n",
       "+------------+-------------------------------+-------------------------------+\n",
       "| Hardtofind | https://www.hardtofind.com... | https://hardtofind.imgix.n... |\n",
       "| Hardtofind | https://www.hardtofind.com... | https://hardtofind.imgix.n... |\n",
       "| Hardtofind | https://www.hardtofind.com... | https://hardtofind.imgix.n... |\n",
       "| Hardtofind | https://www.hardtofind.com... | https://hardtofind.imgix.n... |\n",
       "| Hardtofind | https://www.hardtofind.com... | https://hardtofind.imgix.n... |\n",
       "| Hardtofind | https://www.hardtofind.com... | https://hardtofind.imgix.n... |\n",
       "| Hardtofind | https://www.hardtofind.com... | https://hardtofind.imgix.n... |\n",
       "| Hardtofind | https://www.hardtofind.com... | https://hardtofind.imgix.n... |\n",
       "| Hardtofind | https://www.hardtofind.com... | https://hardtofind.imgix.n... |\n",
       "| Hardtofind | https://www.hardtofind.com... | https://hardtofind.imgix.n... |\n",
       "+------------+-------------------------------+-------------------------------+\n",
       "+-------------------------------+\n",
       "|            X1.title           |\n",
       "+-------------------------------+\n",
       "| Hypergrand 01 classic watc... |\n",
       "|   PedeX 01 bike for toddlers  |\n",
       "|  Geometric shapes no 1 print  |\n",
       "|    Formule 1 vintage poster   |\n",
       "| Orla Kiely multi stem 1.5l... |\n",
       "| Slimfit case for Google Ne... |\n",
       "| Deluxe protection cover fo... |\n",
       "| Gumdrop Macbook Air/Pro 11... |\n",
       "| Jivo go gear kit for GoPro... |\n",
       "|    Wine rack for 12 bottles   |\n",
       "+-------------------------------+\n",
       "[10 rows x 14 columns]"
      ]
     },
     "execution_count": 6,
     "metadata": {},
     "output_type": "execute_result"
    }
   ],
   "source": [
    "gifts_sf.head()"
   ]
  },
  {
   "cell_type": "code",
   "execution_count": 7,
   "metadata": {
    "collapsed": false
   },
   "outputs": [
    {
     "data": {
      "text/html": [
       "<div style=\"max-height:1000px;max-width:1500px;overflow:auto;\"><table frame=\"box\" rules=\"cols\">\n",
       "    <tr>\n",
       "        <th style=\"padding-left: 1em; padding-right: 1em; text-align: center\">Brand</th>\n",
       "        <th style=\"padding-left: 1em; padding-right: 1em; text-align: center\">Currency</th>\n",
       "        <th style=\"padding-left: 1em; padding-right: 1em; text-align: center\">Description</th>\n",
       "        <th style=\"padding-left: 1em; padding-right: 1em; text-align: center\">Gallery Images</th>\n",
       "        <th style=\"padding-left: 1em; padding-right: 1em; text-align: center\">Personality</th>\n",
       "        <th style=\"padding-left: 1em; padding-right: 1em; text-align: center\">Price</th>\n",
       "    </tr>\n",
       "    <tr>\n",
       "        <td style=\"padding-left: 1em; padding-right: 1em; text-align: center; vertical-align: top\">Zaia</td>\n",
       "        <td style=\"padding-left: 1em; padding-right: 1em; text-align: center; vertical-align: top\">AUD</td>\n",
       "        <td style=\"padding-left: 1em; padding-right: 1em; text-align: center; vertical-align: top\">Some are born to do<br>things differently. \\nA ...</td>\n",
       "        <td style=\"padding-left: 1em; padding-right: 1em; text-align: center; vertical-align: top\">[https://hardtofind.imgix<br>.net/hardtofind/image ...</td>\n",
       "        <td style=\"padding-left: 1em; padding-right: 1em; text-align: center; vertical-align: top\">Style Guru</td>\n",
       "        <td style=\"padding-left: 1em; padding-right: 1em; text-align: center; vertical-align: top\">147.9</td>\n",
       "    </tr>\n",
       "    <tr>\n",
       "        <td style=\"padding-left: 1em; padding-right: 1em; text-align: center; vertical-align: top\">scoolbikes</td>\n",
       "        <td style=\"padding-left: 1em; padding-right: 1em; text-align: center; vertical-align: top\">AUD</td>\n",
       "        <td style=\"padding-left: 1em; padding-right: 1em; text-align: center; vertical-align: top\">The pedeX 01 balance bike<br>weighs only 3.3kg thr ...</td>\n",
       "        <td style=\"padding-left: 1em; padding-right: 1em; text-align: center; vertical-align: top\">[https://hardtofind.imgix<br>.net/hardtofind/image ...</td>\n",
       "        <td style=\"padding-left: 1em; padding-right: 1em; text-align: center; vertical-align: top\">Sporty</td>\n",
       "        <td style=\"padding-left: 1em; padding-right: 1em; text-align: center; vertical-align: top\">171.75</td>\n",
       "    </tr>\n",
       "    <tr>\n",
       "        <td style=\"padding-left: 1em; padding-right: 1em; text-align: center; vertical-align: top\">Sweet William</td>\n",
       "        <td style=\"padding-left: 1em; padding-right: 1em; text-align: center; vertical-align: top\">AUD</td>\n",
       "        <td style=\"padding-left: 1em; padding-right: 1em; text-align: center; vertical-align: top\">This is an archival print<br>of an original pen and ...</td>\n",
       "        <td style=\"padding-left: 1em; padding-right: 1em; text-align: center; vertical-align: top\">[https://hardtofind.imgix<br>.net/hardtofind/image ...</td>\n",
       "        <td style=\"padding-left: 1em; padding-right: 1em; text-align: center; vertical-align: top\">Art Lover</td>\n",
       "        <td style=\"padding-left: 1em; padding-right: 1em; text-align: center; vertical-align: top\">30.0</td>\n",
       "    </tr>\n",
       "    <tr>\n",
       "        <td style=\"padding-left: 1em; padding-right: 1em; text-align: center; vertical-align: top\">Zoomatech</td>\n",
       "        <td style=\"padding-left: 1em; padding-right: 1em; text-align: center; vertical-align: top\">AUD</td>\n",
       "        <td style=\"padding-left: 1em; padding-right: 1em; text-align: center; vertical-align: top\">Formule 1 vintage poster<br>1988 by French artist ...</td>\n",
       "        <td style=\"padding-left: 1em; padding-right: 1em; text-align: center; vertical-align: top\">[https://hardtofind.imgix<br>.net/hardtofind/image ...</td>\n",
       "        <td style=\"padding-left: 1em; padding-right: 1em; text-align: center; vertical-align: top\">Art Lover</td>\n",
       "        <td style=\"padding-left: 1em; padding-right: 1em; text-align: center; vertical-align: top\">71.5</td>\n",
       "    </tr>\n",
       "    <tr>\n",
       "        <td style=\"padding-left: 1em; padding-right: 1em; text-align: center; vertical-align: top\">Anasazi Trading Pty Ltd</td>\n",
       "        <td style=\"padding-left: 1em; padding-right: 1em; text-align: center; vertical-align: top\">AUD</td>\n",
       "        <td style=\"padding-left: 1em; padding-right: 1em; text-align: center; vertical-align: top\">This ceramic pitcher with<br>signature Multi Stem ...</td>\n",
       "        <td style=\"padding-left: 1em; padding-right: 1em; text-align: center; vertical-align: top\">[https://hardtofind.imgix<br>.net/hardtofind/image ...</td>\n",
       "        <td style=\"padding-left: 1em; padding-right: 1em; text-align: center; vertical-align: top\">House Proud</td>\n",
       "        <td style=\"padding-left: 1em; padding-right: 1em; text-align: center; vertical-align: top\">79.95</td>\n",
       "    </tr>\n",
       "    <tr>\n",
       "        <td style=\"padding-left: 1em; padding-right: 1em; text-align: center; vertical-align: top\">R&amp;D Media Group</td>\n",
       "        <td style=\"padding-left: 1em; padding-right: 1em; text-align: center; vertical-align: top\">AUD</td>\n",
       "        <td style=\"padding-left: 1em; padding-right: 1em; text-align: center; vertical-align: top\">Multi-functional smart<br>cover suitable for the ...</td>\n",
       "        <td style=\"padding-left: 1em; padding-right: 1em; text-align: center; vertical-align: top\">[https://hardtofind.imgix<br>.net/hardtofind/image ...</td>\n",
       "        <td style=\"padding-left: 1em; padding-right: 1em; text-align: center; vertical-align: top\">Tech Savvy</td>\n",
       "        <td style=\"padding-left: 1em; padding-right: 1em; text-align: center; vertical-align: top\">69.95</td>\n",
       "    </tr>\n",
       "    <tr>\n",
       "        <td style=\"padding-left: 1em; padding-right: 1em; text-align: center; vertical-align: top\">R&amp;D Media Group</td>\n",
       "        <td style=\"padding-left: 1em; padding-right: 1em; text-align: center; vertical-align: top\">AUD</td>\n",
       "        <td style=\"padding-left: 1em; padding-right: 1em; text-align: center; vertical-align: top\">With this deluxe case we<br>offer excellent quality ...</td>\n",
       "        <td style=\"padding-left: 1em; padding-right: 1em; text-align: center; vertical-align: top\">[https://hardtofind.imgix<br>.net/hardtofind/image ...</td>\n",
       "        <td style=\"padding-left: 1em; padding-right: 1em; text-align: center; vertical-align: top\">Tech Savvy</td>\n",
       "        <td style=\"padding-left: 1em; padding-right: 1em; text-align: center; vertical-align: top\">69.95</td>\n",
       "    </tr>\n",
       "    <tr>\n",
       "        <td style=\"padding-left: 1em; padding-right: 1em; text-align: center; vertical-align: top\">TNS Distribution<br>Australia ...</td>\n",
       "        <td style=\"padding-left: 1em; padding-right: 1em; text-align: center; vertical-align: top\">AUD</td>\n",
       "        <td style=\"padding-left: 1em; padding-right: 1em; text-align: center; vertical-align: top\">Drop Tech sleeve for<br>Macbook 11''.\\nThe Drop ...</td>\n",
       "        <td style=\"padding-left: 1em; padding-right: 1em; text-align: center; vertical-align: top\">[https://hardtofind.imgix<br>.net/hardtofind/image ...</td>\n",
       "        <td style=\"padding-left: 1em; padding-right: 1em; text-align: center; vertical-align: top\">Tech Savvy</td>\n",
       "        <td style=\"padding-left: 1em; padding-right: 1em; text-align: center; vertical-align: top\">79.95</td>\n",
       "    </tr>\n",
       "    <tr>\n",
       "        <td style=\"padding-left: 1em; padding-right: 1em; text-align: center; vertical-align: top\">TNS Distribution<br>Australia ...</td>\n",
       "        <td style=\"padding-left: 1em; padding-right: 1em; text-align: center; vertical-align: top\">AUD</td>\n",
       "        <td style=\"padding-left: 1em; padding-right: 1em; text-align: center; vertical-align: top\">* 13 Anti-shock water<br>resistant EVA protective ...</td>\n",
       "        <td style=\"padding-left: 1em; padding-right: 1em; text-align: center; vertical-align: top\">[https://hardtofind.imgix<br>.net/hardtofind/image ...</td>\n",
       "        <td style=\"padding-left: 1em; padding-right: 1em; text-align: center; vertical-align: top\">Tech Savvy</td>\n",
       "        <td style=\"padding-left: 1em; padding-right: 1em; text-align: center; vertical-align: top\">199.95</td>\n",
       "    </tr>\n",
       "    <tr>\n",
       "        <td style=\"padding-left: 1em; padding-right: 1em; text-align: center; vertical-align: top\">Echelon Products</td>\n",
       "        <td style=\"padding-left: 1em; padding-right: 1em; text-align: center; vertical-align: top\">AUD</td>\n",
       "        <td style=\"padding-left: 1em; padding-right: 1em; text-align: center; vertical-align: top\">This elegant 12 bottle<br>wine rack makes a ...</td>\n",
       "        <td style=\"padding-left: 1em; padding-right: 1em; text-align: center; vertical-align: top\">[https://hardtofind.imgix<br>.net/hardtofind/image ...</td>\n",
       "        <td style=\"padding-left: 1em; padding-right: 1em; text-align: center; vertical-align: top\">Foodie</td>\n",
       "        <td style=\"padding-left: 1em; padding-right: 1em; text-align: center; vertical-align: top\">271.0</td>\n",
       "    </tr>\n",
       "</table>\n",
       "<table frame=\"box\" rules=\"cols\">\n",
       "    <tr>\n",
       "        <th style=\"padding-left: 1em; padding-right: 1em; text-align: center\">Purchase URL</th>\n",
       "        <th style=\"padding-left: 1em; padding-right: 1em; text-align: center\">Rating</th>\n",
       "        <th style=\"padding-left: 1em; padding-right: 1em; text-align: center\">Review Count</th>\n",
       "        <th style=\"padding-left: 1em; padding-right: 1em; text-align: center\">SKU</th>\n",
       "        <th style=\"padding-left: 1em; padding-right: 1em; text-align: center\">Source</th>\n",
       "        <th style=\"padding-left: 1em; padding-right: 1em; text-align: center\">Source URL</th>\n",
       "    </tr>\n",
       "    <tr>\n",
       "        <td style=\"padding-left: 1em; padding-right: 1em; text-align: center; vertical-align: top\">https://www.hardtofind.co<br>m.au/99792_hypergrand-01 ...</td>\n",
       "        <td style=\"padding-left: 1em; padding-right: 1em; text-align: center; vertical-align: top\">0</td>\n",
       "        <td style=\"padding-left: 1em; padding-right: 1em; text-align: center; vertical-align: top\">0</td>\n",
       "        <td style=\"padding-left: 1em; padding-right: 1em; text-align: center; vertical-align: top\">9979201</td>\n",
       "        <td style=\"padding-left: 1em; padding-right: 1em; text-align: center; vertical-align: top\">Hardtofind</td>\n",
       "        <td style=\"padding-left: 1em; padding-right: 1em; text-align: center; vertical-align: top\">https://www.hardtofind.co<br>m.au/99792_hypergrand-01 ...</td>\n",
       "    </tr>\n",
       "    <tr>\n",
       "        <td style=\"padding-left: 1em; padding-right: 1em; text-align: center; vertical-align: top\">https://www.hardtofind.co<br>m.au/105980_pedex-01 ...</td>\n",
       "        <td style=\"padding-left: 1em; padding-right: 1em; text-align: center; vertical-align: top\">0</td>\n",
       "        <td style=\"padding-left: 1em; padding-right: 1em; text-align: center; vertical-align: top\">0</td>\n",
       "        <td style=\"padding-left: 1em; padding-right: 1em; text-align: center; vertical-align: top\">10598001</td>\n",
       "        <td style=\"padding-left: 1em; padding-right: 1em; text-align: center; vertical-align: top\">Hardtofind</td>\n",
       "        <td style=\"padding-left: 1em; padding-right: 1em; text-align: center; vertical-align: top\">https://www.hardtofind.co<br>m.au/105980_pedex-01 ...</td>\n",
       "    </tr>\n",
       "    <tr>\n",
       "        <td style=\"padding-left: 1em; padding-right: 1em; text-align: center; vertical-align: top\">https://www.hardtofind.co<br>m.au/54551_geometric- ...</td>\n",
       "        <td style=\"padding-left: 1em; padding-right: 1em; text-align: center; vertical-align: top\">0</td>\n",
       "        <td style=\"padding-left: 1em; padding-right: 1em; text-align: center; vertical-align: top\">0</td>\n",
       "        <td style=\"padding-left: 1em; padding-right: 1em; text-align: center; vertical-align: top\">545511</td>\n",
       "        <td style=\"padding-left: 1em; padding-right: 1em; text-align: center; vertical-align: top\">Hardtofind</td>\n",
       "        <td style=\"padding-left: 1em; padding-right: 1em; text-align: center; vertical-align: top\">https://www.hardtofind.co<br>m.au/54551_geometric- ...</td>\n",
       "    </tr>\n",
       "    <tr>\n",
       "        <td style=\"padding-left: 1em; padding-right: 1em; text-align: center; vertical-align: top\">https://www.hardtofind.co<br>m.au/30397_formule-1 ...</td>\n",
       "        <td style=\"padding-left: 1em; padding-right: 1em; text-align: center; vertical-align: top\">0</td>\n",
       "        <td style=\"padding-left: 1em; padding-right: 1em; text-align: center; vertical-align: top\">0</td>\n",
       "        <td style=\"padding-left: 1em; padding-right: 1em; text-align: center; vertical-align: top\">303971</td>\n",
       "        <td style=\"padding-left: 1em; padding-right: 1em; text-align: center; vertical-align: top\">Hardtofind</td>\n",
       "        <td style=\"padding-left: 1em; padding-right: 1em; text-align: center; vertical-align: top\">https://www.hardtofind.co<br>m.au/30397_formule-1 ...</td>\n",
       "    </tr>\n",
       "    <tr>\n",
       "        <td style=\"padding-left: 1em; padding-right: 1em; text-align: center; vertical-align: top\">https://www.hardtofind.co<br>m.au/80303_orla-kiely- ...</td>\n",
       "        <td style=\"padding-left: 1em; padding-right: 1em; text-align: center; vertical-align: top\">0</td>\n",
       "        <td style=\"padding-left: 1em; padding-right: 1em; text-align: center; vertical-align: top\">0</td>\n",
       "        <td style=\"padding-left: 1em; padding-right: 1em; text-align: center; vertical-align: top\">8030315</td>\n",
       "        <td style=\"padding-left: 1em; padding-right: 1em; text-align: center; vertical-align: top\">Hardtofind</td>\n",
       "        <td style=\"padding-left: 1em; padding-right: 1em; text-align: center; vertical-align: top\">https://www.hardtofind.co<br>m.au/80303_orla-kiely- ...</td>\n",
       "    </tr>\n",
       "    <tr>\n",
       "        <td style=\"padding-left: 1em; padding-right: 1em; text-align: center; vertical-align: top\">https://www.hardtofind.co<br>m.au/84749_slimfit-case- ...</td>\n",
       "        <td style=\"padding-left: 1em; padding-right: 1em; text-align: center; vertical-align: top\">0</td>\n",
       "        <td style=\"padding-left: 1em; padding-right: 1em; text-align: center; vertical-align: top\">0</td>\n",
       "        <td style=\"padding-left: 1em; padding-right: 1em; text-align: center; vertical-align: top\">8474910</td>\n",
       "        <td style=\"padding-left: 1em; padding-right: 1em; text-align: center; vertical-align: top\">Hardtofind</td>\n",
       "        <td style=\"padding-left: 1em; padding-right: 1em; text-align: center; vertical-align: top\">https://www.hardtofind.co<br>m.au/84749_slimfit-case- ...</td>\n",
       "    </tr>\n",
       "    <tr>\n",
       "        <td style=\"padding-left: 1em; padding-right: 1em; text-align: center; vertical-align: top\">https://www.hardtofind.co<br>m.au/84756_deluxe- ...</td>\n",
       "        <td style=\"padding-left: 1em; padding-right: 1em; text-align: center; vertical-align: top\">0</td>\n",
       "        <td style=\"padding-left: 1em; padding-right: 1em; text-align: center; vertical-align: top\">0</td>\n",
       "        <td style=\"padding-left: 1em; padding-right: 1em; text-align: center; vertical-align: top\">8475610</td>\n",
       "        <td style=\"padding-left: 1em; padding-right: 1em; text-align: center; vertical-align: top\">Hardtofind</td>\n",
       "        <td style=\"padding-left: 1em; padding-right: 1em; text-align: center; vertical-align: top\">https://www.hardtofind.co<br>m.au/84756_deluxe- ...</td>\n",
       "    </tr>\n",
       "    <tr>\n",
       "        <td style=\"padding-left: 1em; padding-right: 1em; text-align: center; vertical-align: top\">https://www.hardtofind.co<br>m.au/67781_gumdrop- ...</td>\n",
       "        <td style=\"padding-left: 1em; padding-right: 1em; text-align: center; vertical-align: top\">0</td>\n",
       "        <td style=\"padding-left: 1em; padding-right: 1em; text-align: center; vertical-align: top\">0</td>\n",
       "        <td style=\"padding-left: 1em; padding-right: 1em; text-align: center; vertical-align: top\">6778111</td>\n",
       "        <td style=\"padding-left: 1em; padding-right: 1em; text-align: center; vertical-align: top\">Hardtofind</td>\n",
       "        <td style=\"padding-left: 1em; padding-right: 1em; text-align: center; vertical-align: top\">https://www.hardtofind.co<br>m.au/67781_gumdrop- ...</td>\n",
       "    </tr>\n",
       "    <tr>\n",
       "        <td style=\"padding-left: 1em; padding-right: 1em; text-align: center; vertical-align: top\">https://www.hardtofind.co<br>m.au/93198_jivo-go-gear- ...</td>\n",
       "        <td style=\"padding-left: 1em; padding-right: 1em; text-align: center; vertical-align: top\">0</td>\n",
       "        <td style=\"padding-left: 1em; padding-right: 1em; text-align: center; vertical-align: top\">0</td>\n",
       "        <td style=\"padding-left: 1em; padding-right: 1em; text-align: center; vertical-align: top\">9319811</td>\n",
       "        <td style=\"padding-left: 1em; padding-right: 1em; text-align: center; vertical-align: top\">Hardtofind</td>\n",
       "        <td style=\"padding-left: 1em; padding-right: 1em; text-align: center; vertical-align: top\">https://www.hardtofind.co<br>m.au/93198_jivo-go-gear- ...</td>\n",
       "    </tr>\n",
       "    <tr>\n",
       "        <td style=\"padding-left: 1em; padding-right: 1em; text-align: center; vertical-align: top\">https://www.hardtofind.co<br>m.au/30610_wine-rack- ...</td>\n",
       "        <td style=\"padding-left: 1em; padding-right: 1em; text-align: center; vertical-align: top\">0</td>\n",
       "        <td style=\"padding-left: 1em; padding-right: 1em; text-align: center; vertical-align: top\">0</td>\n",
       "        <td style=\"padding-left: 1em; padding-right: 1em; text-align: center; vertical-align: top\">3061012</td>\n",
       "        <td style=\"padding-left: 1em; padding-right: 1em; text-align: center; vertical-align: top\">Hardtofind</td>\n",
       "        <td style=\"padding-left: 1em; padding-right: 1em; text-align: center; vertical-align: top\">https://www.hardtofind.co<br>m.au/30610_wine-rack- ...</td>\n",
       "    </tr>\n",
       "</table>\n",
       "<table frame=\"box\" rules=\"cols\">\n",
       "    <tr>\n",
       "        <th style=\"padding-left: 1em; padding-right: 1em; text-align: center\">Thumbnail</th>\n",
       "        <th style=\"padding-left: 1em; padding-right: 1em; text-align: center\">Title</th>\n",
       "    </tr>\n",
       "    <tr>\n",
       "        <td style=\"padding-left: 1em; padding-right: 1em; text-align: center; vertical-align: top\">https://hardtofind.imgix.<br>net/hardtofind/image/ ...</td>\n",
       "        <td style=\"padding-left: 1em; padding-right: 1em; text-align: center; vertical-align: top\">Hypergrand 01 classic<br>watch in rose grey ...</td>\n",
       "    </tr>\n",
       "    <tr>\n",
       "        <td style=\"padding-left: 1em; padding-right: 1em; text-align: center; vertical-align: top\">https://hardtofind.imgix.<br>net/hardtofind/image/ ...</td>\n",
       "        <td style=\"padding-left: 1em; padding-right: 1em; text-align: center; vertical-align: top\">PedeX 01 bike for<br>toddlers ...</td>\n",
       "    </tr>\n",
       "    <tr>\n",
       "        <td style=\"padding-left: 1em; padding-right: 1em; text-align: center; vertical-align: top\">https://hardtofind.imgix.<br>net/hardtofind/image/ ...</td>\n",
       "        <td style=\"padding-left: 1em; padding-right: 1em; text-align: center; vertical-align: top\">Geometric shapes no 1<br>print ...</td>\n",
       "    </tr>\n",
       "    <tr>\n",
       "        <td style=\"padding-left: 1em; padding-right: 1em; text-align: center; vertical-align: top\">https://hardtofind.imgix.<br>net/hardtofind/image/ ...</td>\n",
       "        <td style=\"padding-left: 1em; padding-right: 1em; text-align: center; vertical-align: top\">Formule 1 vintage poster</td>\n",
       "    </tr>\n",
       "    <tr>\n",
       "        <td style=\"padding-left: 1em; padding-right: 1em; text-align: center; vertical-align: top\">https://hardtofind.imgix.<br>net/hardtofind/image/ ...</td>\n",
       "        <td style=\"padding-left: 1em; padding-right: 1em; text-align: center; vertical-align: top\">Orla Kiely multi stem<br>1.5l pitcher ...</td>\n",
       "    </tr>\n",
       "    <tr>\n",
       "        <td style=\"padding-left: 1em; padding-right: 1em; text-align: center; vertical-align: top\">https://hardtofind.imgix.<br>net/hardtofind/image/ ...</td>\n",
       "        <td style=\"padding-left: 1em; padding-right: 1em; text-align: center; vertical-align: top\">Slimfit case for Google<br>Nexus 10 ...</td>\n",
       "    </tr>\n",
       "    <tr>\n",
       "        <td style=\"padding-left: 1em; padding-right: 1em; text-align: center; vertical-align: top\">https://hardtofind.imgix.<br>net/hardtofind/image/ ...</td>\n",
       "        <td style=\"padding-left: 1em; padding-right: 1em; text-align: center; vertical-align: top\">Deluxe protection cover<br>for Lenovo tab 10 ...</td>\n",
       "    </tr>\n",
       "    <tr>\n",
       "        <td style=\"padding-left: 1em; padding-right: 1em; text-align: center; vertical-align: top\">https://hardtofind.imgix.<br>net/hardtofind/image/ ...</td>\n",
       "        <td style=\"padding-left: 1em; padding-right: 1em; text-align: center; vertical-align: top\">Gumdrop Macbook Air/Pro<br>11-inch Drop Tech ...</td>\n",
       "    </tr>\n",
       "    <tr>\n",
       "        <td style=\"padding-left: 1em; padding-right: 1em; text-align: center; vertical-align: top\">https://hardtofind.imgix.<br>net/hardtofind/image/ ...</td>\n",
       "        <td style=\"padding-left: 1em; padding-right: 1em; text-align: center; vertical-align: top\">Jivo go gear kit for<br>GoPro &amp; action cams (11 ...</td>\n",
       "    </tr>\n",
       "    <tr>\n",
       "        <td style=\"padding-left: 1em; padding-right: 1em; text-align: center; vertical-align: top\">https://hardtofind.imgix.<br>net/hardtofind/image/ ...</td>\n",
       "        <td style=\"padding-left: 1em; padding-right: 1em; text-align: center; vertical-align: top\">Wine rack for 12 bottles</td>\n",
       "    </tr>\n",
       "</table>\n",
       "[1923 rows x 14 columns]<br/>Note: Only the head of the SFrame is printed.<br/>You can use print_rows(num_rows=m, num_columns=n) to print more rows and columns.\n",
       "</div>"
      ],
      "text/plain": [
       "Columns:\n",
       "\tBrand\tstr\n",
       "\tCurrency\tstr\n",
       "\tDescription\tstr\n",
       "\tGallery Images\tlist\n",
       "\tPersonality\tstr\n",
       "\tPrice\tfloat\n",
       "\tPurchase URL\tstr\n",
       "\tRating\tint\n",
       "\tReview Count\tint\n",
       "\tSKU\tstr\n",
       "\tSource\tstr\n",
       "\tSource URL\tstr\n",
       "\tThumbnail\tstr\n",
       "\tTitle\tstr\n",
       "\n",
       "Rows: 1923\n",
       "\n",
       "Data:\n",
       "+----------------------------+----------+-------------------------------+\n",
       "|           Brand            | Currency |          Description          |\n",
       "+----------------------------+----------+-------------------------------+\n",
       "|            Zaia            |   AUD    | Some are born to do things... |\n",
       "|         scoolbikes         |   AUD    | The pedeX 01 balance bike ... |\n",
       "|       Sweet William        |   AUD    | This is an archival print ... |\n",
       "|         Zoomatech          |   AUD    | Formule 1 vintage poster 1... |\n",
       "|  Anasazi Trading Pty Ltd   |   AUD    | This ceramic pitcher with ... |\n",
       "|      R&D Media Group       |   AUD    | Multi-functional smart cov... |\n",
       "|      R&D Media Group       |   AUD    | With this deluxe case we o... |\n",
       "| TNS Distribution Australia |   AUD    | Drop Tech sleeve for Macbo... |\n",
       "| TNS Distribution Australia |   AUD    | * 13 Anti-shock water resi... |\n",
       "|      Echelon Products      |   AUD    | This elegant 12 bottle win... |\n",
       "+----------------------------+----------+-------------------------------+\n",
       "+-------------------------------+-------------+--------+\n",
       "|         Gallery Images        | Personality | Price  |\n",
       "+-------------------------------+-------------+--------+\n",
       "| [https://hardtofind.imgix.... |  Style Guru | 147.9  |\n",
       "| [https://hardtofind.imgix.... |    Sporty   | 171.75 |\n",
       "| [https://hardtofind.imgix.... |  Art Lover  |  30.0  |\n",
       "| [https://hardtofind.imgix.... |  Art Lover  |  71.5  |\n",
       "| [https://hardtofind.imgix.... | House Proud | 79.95  |\n",
       "| [https://hardtofind.imgix.... |  Tech Savvy | 69.95  |\n",
       "| [https://hardtofind.imgix.... |  Tech Savvy | 69.95  |\n",
       "| [https://hardtofind.imgix.... |  Tech Savvy | 79.95  |\n",
       "| [https://hardtofind.imgix.... |  Tech Savvy | 199.95 |\n",
       "| [https://hardtofind.imgix.... |    Foodie   | 271.0  |\n",
       "+-------------------------------+-------------+--------+\n",
       "+-------------------------------+--------+--------------+----------+------------+\n",
       "|          Purchase URL         | Rating | Review Count |   SKU    |   Source   |\n",
       "+-------------------------------+--------+--------------+----------+------------+\n",
       "| https://www.hardtofind.com... |   0    |      0       | 9979201  | Hardtofind |\n",
       "| https://www.hardtofind.com... |   0    |      0       | 10598001 | Hardtofind |\n",
       "| https://www.hardtofind.com... |   0    |      0       |  545511  | Hardtofind |\n",
       "| https://www.hardtofind.com... |   0    |      0       |  303971  | Hardtofind |\n",
       "| https://www.hardtofind.com... |   0    |      0       | 8030315  | Hardtofind |\n",
       "| https://www.hardtofind.com... |   0    |      0       | 8474910  | Hardtofind |\n",
       "| https://www.hardtofind.com... |   0    |      0       | 8475610  | Hardtofind |\n",
       "| https://www.hardtofind.com... |   0    |      0       | 6778111  | Hardtofind |\n",
       "| https://www.hardtofind.com... |   0    |      0       | 9319811  | Hardtofind |\n",
       "| https://www.hardtofind.com... |   0    |      0       | 3061012  | Hardtofind |\n",
       "+-------------------------------+--------+--------------+----------+------------+\n",
       "+-------------------------------+-------------------------------+\n",
       "|           Source URL          |           Thumbnail           |\n",
       "+-------------------------------+-------------------------------+\n",
       "| https://www.hardtofind.com... | https://hardtofind.imgix.n... |\n",
       "| https://www.hardtofind.com... | https://hardtofind.imgix.n... |\n",
       "| https://www.hardtofind.com... | https://hardtofind.imgix.n... |\n",
       "| https://www.hardtofind.com... | https://hardtofind.imgix.n... |\n",
       "| https://www.hardtofind.com... | https://hardtofind.imgix.n... |\n",
       "| https://www.hardtofind.com... | https://hardtofind.imgix.n... |\n",
       "| https://www.hardtofind.com... | https://hardtofind.imgix.n... |\n",
       "| https://www.hardtofind.com... | https://hardtofind.imgix.n... |\n",
       "| https://www.hardtofind.com... | https://hardtofind.imgix.n... |\n",
       "| https://www.hardtofind.com... | https://hardtofind.imgix.n... |\n",
       "+-------------------------------+-------------------------------+\n",
       "+-------------------------------+\n",
       "|             Title             |\n",
       "+-------------------------------+\n",
       "| Hypergrand 01 classic watc... |\n",
       "|   PedeX 01 bike for toddlers  |\n",
       "|  Geometric shapes no 1 print  |\n",
       "|    Formule 1 vintage poster   |\n",
       "| Orla Kiely multi stem 1.5l... |\n",
       "| Slimfit case for Google Ne... |\n",
       "| Deluxe protection cover fo... |\n",
       "| Gumdrop Macbook Air/Pro 11... |\n",
       "| Jivo go gear kit for GoPro... |\n",
       "|    Wine rack for 12 bottles   |\n",
       "+-------------------------------+\n",
       "[1923 rows x 14 columns]\n",
       "Note: Only the head of the SFrame is printed.\n",
       "You can use print_rows(num_rows=m, num_columns=n) to print more rows and columns."
      ]
     },
     "execution_count": 7,
     "metadata": {},
     "output_type": "execute_result"
    }
   ],
   "source": [
    "gifts_sf.rename({'X1.brand': 'Brand', 'X1.currency': 'Currency', 'X1.description': 'Description', 'X1.galleryImages': 'Gallery Images', 'X1.personality': 'Personality', 'X1.price': 'Price', 'X1.purchaseUrl': 'Purchase URL', 'X1.ratingValue': 'Rating', 'X1.reviewCount': 'Review Count', 'X1.sku': 'SKU', 'X1.source': 'Source', 'X1.sourceUrl': 'Source URL', 'X1.thumbnailImage': 'Thumbnail', 'X1.title': 'Title'})"
   ]
  },
  {
   "cell_type": "code",
   "execution_count": 8,
   "metadata": {
    "collapsed": false
   },
   "outputs": [],
   "source": [
    "gifts_sf['word_count_title'] = graphlab.text_analytics.count_words(gifts_sf['Title'])\n",
    "gifts_sf['word_count_description'] = graphlab.text_analytics.count_words(gifts_sf['Description'])"
   ]
  },
  {
   "cell_type": "code",
   "execution_count": 9,
   "metadata": {
    "collapsed": false
   },
   "outputs": [],
   "source": [
    "gifts_sf['tfidf'] = graphlab.text_analytics.tf_idf(gifts_sf['word_count_description'])"
   ]
  },
  {
   "cell_type": "code",
   "execution_count": 10,
   "metadata": {
    "collapsed": false
   },
   "outputs": [
    {
     "data": {
      "text/html": [
       "<pre>Starting brute force nearest neighbors model training.</pre>"
      ],
      "text/plain": [
       "Starting brute force nearest neighbors model training."
      ]
     },
     "metadata": {},
     "output_type": "display_data"
    }
   ],
   "source": [
    "knn_model = graphlab.nearest_neighbors.create(gifts_sf,features=['tfidf'],label='SKU')"
   ]
  },
  {
   "cell_type": "code",
   "execution_count": null,
   "metadata": {
    "collapsed": true
   },
   "outputs": [],
   "source": [
    "test = gifts_sf[gifts_sf['SKU'] == '6778111']"
   ]
  },
  {
   "cell_type": "code",
   "execution_count": 12,
   "metadata": {
    "collapsed": false
   },
   "outputs": [
    {
     "data": {
      "text/html": [
       "<div style=\"max-height:1000px;max-width:1500px;overflow:auto;\"><table frame=\"box\" rules=\"cols\">\n",
       "    <tr>\n",
       "        <th style=\"padding-left: 1em; padding-right: 1em; text-align: center\">Brand</th>\n",
       "        <th style=\"padding-left: 1em; padding-right: 1em; text-align: center\">Currency</th>\n",
       "        <th style=\"padding-left: 1em; padding-right: 1em; text-align: center\">Description</th>\n",
       "        <th style=\"padding-left: 1em; padding-right: 1em; text-align: center\">Gallery Images</th>\n",
       "        <th style=\"padding-left: 1em; padding-right: 1em; text-align: center\">Personality</th>\n",
       "        <th style=\"padding-left: 1em; padding-right: 1em; text-align: center\">Price</th>\n",
       "    </tr>\n",
       "    <tr>\n",
       "        <td style=\"padding-left: 1em; padding-right: 1em; text-align: center; vertical-align: top\">TNS Distribution<br>Australia ...</td>\n",
       "        <td style=\"padding-left: 1em; padding-right: 1em; text-align: center; vertical-align: top\">AUD</td>\n",
       "        <td style=\"padding-left: 1em; padding-right: 1em; text-align: center; vertical-align: top\">Drop Tech sleeve for<br>Macbook 11''.\\nThe Drop ...</td>\n",
       "        <td style=\"padding-left: 1em; padding-right: 1em; text-align: center; vertical-align: top\">[https://hardtofind.imgix<br>.net/hardtofind/image ...</td>\n",
       "        <td style=\"padding-left: 1em; padding-right: 1em; text-align: center; vertical-align: top\">Tech Savvy</td>\n",
       "        <td style=\"padding-left: 1em; padding-right: 1em; text-align: center; vertical-align: top\">79.95</td>\n",
       "    </tr>\n",
       "</table>\n",
       "<table frame=\"box\" rules=\"cols\">\n",
       "    <tr>\n",
       "        <th style=\"padding-left: 1em; padding-right: 1em; text-align: center\">Purchase URL</th>\n",
       "        <th style=\"padding-left: 1em; padding-right: 1em; text-align: center\">Rating</th>\n",
       "        <th style=\"padding-left: 1em; padding-right: 1em; text-align: center\">Review Count</th>\n",
       "        <th style=\"padding-left: 1em; padding-right: 1em; text-align: center\">SKU</th>\n",
       "        <th style=\"padding-left: 1em; padding-right: 1em; text-align: center\">Source</th>\n",
       "        <th style=\"padding-left: 1em; padding-right: 1em; text-align: center\">Source URL</th>\n",
       "    </tr>\n",
       "    <tr>\n",
       "        <td style=\"padding-left: 1em; padding-right: 1em; text-align: center; vertical-align: top\">https://www.hardtofind.co<br>m.au/67781_gumdrop- ...</td>\n",
       "        <td style=\"padding-left: 1em; padding-right: 1em; text-align: center; vertical-align: top\">0</td>\n",
       "        <td style=\"padding-left: 1em; padding-right: 1em; text-align: center; vertical-align: top\">0</td>\n",
       "        <td style=\"padding-left: 1em; padding-right: 1em; text-align: center; vertical-align: top\">6778111</td>\n",
       "        <td style=\"padding-left: 1em; padding-right: 1em; text-align: center; vertical-align: top\">Hardtofind</td>\n",
       "        <td style=\"padding-left: 1em; padding-right: 1em; text-align: center; vertical-align: top\">https://www.hardtofind.co<br>m.au/67781_gumdrop- ...</td>\n",
       "    </tr>\n",
       "</table>\n",
       "<table frame=\"box\" rules=\"cols\">\n",
       "    <tr>\n",
       "        <th style=\"padding-left: 1em; padding-right: 1em; text-align: center\">Thumbnail</th>\n",
       "        <th style=\"padding-left: 1em; padding-right: 1em; text-align: center\">Title</th>\n",
       "        <th style=\"padding-left: 1em; padding-right: 1em; text-align: center\">word_count_title</th>\n",
       "        <th style=\"padding-left: 1em; padding-right: 1em; text-align: center\">word_count_description</th>\n",
       "    </tr>\n",
       "    <tr>\n",
       "        <td style=\"padding-left: 1em; padding-right: 1em; text-align: center; vertical-align: top\">https://hardtofind.imgix.<br>net/hardtofind/image/ ...</td>\n",
       "        <td style=\"padding-left: 1em; padding-right: 1em; text-align: center; vertical-align: top\">Gumdrop Macbook Air/Pro<br>11-inch Drop Tech ...</td>\n",
       "        <td style=\"padding-left: 1em; padding-right: 1em; text-align: center; vertical-align: top\">{'drop': 1, 'sleeve': 1,<br>'air/pro': 1, '11-inch': ...</td>\n",
       "        <td style=\"padding-left: 1em; padding-right: 1em; text-align: center; vertical-align: top\">{'and': 3, 'all': 1,<br>'drop': 3, 'secure': 1, ...</td>\n",
       "    </tr>\n",
       "</table>\n",
       "<table frame=\"box\" rules=\"cols\">\n",
       "    <tr>\n",
       "        <th style=\"padding-left: 1em; padding-right: 1em; text-align: center\">tfidf</th>\n",
       "    </tr>\n",
       "    <tr>\n",
       "        <td style=\"padding-left: 1em; padding-right: 1em; text-align: center; vertical-align: top\">{'and':<br>0.44663318448665057, ...</td>\n",
       "    </tr>\n",
       "</table>\n",
       "[? rows x 17 columns]<br/>Note: Only the head of the SFrame is printed. This SFrame is lazily evaluated.<br/>You can use sf.materialize() to force materialization.\n",
       "</div>"
      ],
      "text/plain": [
       "Columns:\n",
       "\tBrand\tstr\n",
       "\tCurrency\tstr\n",
       "\tDescription\tstr\n",
       "\tGallery Images\tlist\n",
       "\tPersonality\tstr\n",
       "\tPrice\tfloat\n",
       "\tPurchase URL\tstr\n",
       "\tRating\tint\n",
       "\tReview Count\tint\n",
       "\tSKU\tstr\n",
       "\tSource\tstr\n",
       "\tSource URL\tstr\n",
       "\tThumbnail\tstr\n",
       "\tTitle\tstr\n",
       "\tword_count_title\tdict\n",
       "\tword_count_description\tdict\n",
       "\ttfidf\tdict\n",
       "\n",
       "Rows: Unknown\n",
       "\n",
       "Data:\n",
       "+----------------------------+----------+-------------------------------+\n",
       "|           Brand            | Currency |          Description          |\n",
       "+----------------------------+----------+-------------------------------+\n",
       "| TNS Distribution Australia |   AUD    | Drop Tech sleeve for Macbo... |\n",
       "+----------------------------+----------+-------------------------------+\n",
       "+-------------------------------+-------------+-------+\n",
       "|         Gallery Images        | Personality | Price |\n",
       "+-------------------------------+-------------+-------+\n",
       "| [https://hardtofind.imgix.... |  Tech Savvy | 79.95 |\n",
       "+-------------------------------+-------------+-------+\n",
       "+-------------------------------+--------+--------------+---------+------------+\n",
       "|          Purchase URL         | Rating | Review Count |   SKU   |   Source   |\n",
       "+-------------------------------+--------+--------------+---------+------------+\n",
       "| https://www.hardtofind.com... |   0    |      0       | 6778111 | Hardtofind |\n",
       "+-------------------------------+--------+--------------+---------+------------+\n",
       "+-------------------------------+-------------------------------+\n",
       "|           Source URL          |           Thumbnail           |\n",
       "+-------------------------------+-------------------------------+\n",
       "| https://www.hardtofind.com... | https://hardtofind.imgix.n... |\n",
       "+-------------------------------+-------------------------------+\n",
       "+-------------------------------+-------------------------------+\n",
       "|             Title             |        word_count_title       |\n",
       "+-------------------------------+-------------------------------+\n",
       "| Gumdrop Macbook Air/Pro 11... | {'drop': 1, 'sleeve': 1, '... |\n",
       "+-------------------------------+-------------------------------+\n",
       "+-------------------------------+-------------------------------+\n",
       "|     word_count_description    |             tfidf             |\n",
       "+-------------------------------+-------------------------------+\n",
       "| {'and': 3, 'all': 1, 'drop... | {'and': 0.4466331844866505... |\n",
       "+-------------------------------+-------------------------------+\n",
       "[? rows x 17 columns]\n",
       "Note: Only the head of the SFrame is printed. This SFrame is lazily evaluated.\n",
       "You can use sf.materialize() to force materialization."
      ]
     },
     "execution_count": 12,
     "metadata": {},
     "output_type": "execute_result"
    }
   ],
   "source": [
    "test"
   ]
  },
  {
   "cell_type": "code",
   "execution_count": 30,
   "metadata": {
    "collapsed": false
   },
   "outputs": [
    {
     "data": {
      "text/html": [
       "<pre>Starting pairwise querying.</pre>"
      ],
      "text/plain": [
       "Starting pairwise querying."
      ]
     },
     "metadata": {},
     "output_type": "display_data"
    },
    {
     "data": {
      "text/html": [
       "<pre>+--------------+---------+-------------+--------------+</pre>"
      ],
      "text/plain": [
       "+--------------+---------+-------------+--------------+"
      ]
     },
     "metadata": {},
     "output_type": "display_data"
    },
    {
     "data": {
      "text/html": [
       "<pre>| Query points | # Pairs | % Complete. | Elapsed Time |</pre>"
      ],
      "text/plain": [
       "| Query points | # Pairs | % Complete. | Elapsed Time |"
      ]
     },
     "metadata": {},
     "output_type": "display_data"
    },
    {
     "data": {
      "text/html": [
       "<pre>+--------------+---------+-------------+--------------+</pre>"
      ],
      "text/plain": [
       "+--------------+---------+-------------+--------------+"
      ]
     },
     "metadata": {},
     "output_type": "display_data"
    },
    {
     "data": {
      "text/html": [
       "<pre>| 0            | 1       | 0.0520021   | 11.306ms     |</pre>"
      ],
      "text/plain": [
       "| 0            | 1       | 0.0520021   | 11.306ms     |"
      ]
     },
     "metadata": {},
     "output_type": "display_data"
    },
    {
     "data": {
      "text/html": [
       "<pre>| Done         |         | 100         | 17.923ms     |</pre>"
      ],
      "text/plain": [
       "| Done         |         | 100         | 17.923ms     |"
      ]
     },
     "metadata": {},
     "output_type": "display_data"
    },
    {
     "data": {
      "text/html": [
       "<pre>+--------------+---------+-------------+--------------+</pre>"
      ],
      "text/plain": [
       "+--------------+---------+-------------+--------------+"
      ]
     },
     "metadata": {},
     "output_type": "display_data"
    }
   ],
   "source": [
    "similar_items = knn_model.query(test, k=30)"
   ]
  },
  {
   "cell_type": "code",
   "execution_count": 39,
   "metadata": {
    "collapsed": false
   },
   "outputs": [
    {
     "data": {
      "text/plain": [
       "{'distance': 0.8898305084745762,\n",
       " 'query_label': 0,\n",
       " 'rank': 30,\n",
       " 'reference_label': '120955'}"
      ]
     },
     "execution_count": 39,
     "metadata": {},
     "output_type": "execute_result"
    }
   ],
   "source": [
    "similar_items[29]"
   ]
  },
  {
   "cell_type": "code",
   "execution_count": 28,
   "metadata": {
    "collapsed": false
   },
   "outputs": [
    {
     "data": {
      "text/plain": [
       "dtype: str\n",
       "Rows: ?\n",
       "['https://www.hardtofind.com.au/67781_gumdrop-macbook-airpro-11-inch-drop-tech-protection-sleeve', ... ]"
      ]
     },
     "execution_count": 28,
     "metadata": {},
     "output_type": "execute_result"
    }
   ],
   "source": [
    "gifts_sf[gifts_sf['SKU'] == '6778111']['Purchase URL']"
   ]
  },
  {
   "cell_type": "code",
   "execution_count": 23,
   "metadata": {
    "collapsed": false
   },
   "outputs": [
    {
     "data": {
      "text/plain": [
       "dtype: str\n",
       "Rows: ?\n",
       "['https://www.hardtofind.com.au/67779_gumdrop-macbook-airpro-13-inch-drop-tech-protective-sleeve', ... ]"
      ]
     },
     "execution_count": 23,
     "metadata": {},
     "output_type": "execute_result"
    }
   ],
   "source": [
    "gifts_sf[gifts_sf['SKU'] == '6777913']['Purchase URL']"
   ]
  },
  {
   "cell_type": "code",
   "execution_count": 24,
   "metadata": {
    "collapsed": false
   },
   "outputs": [
    {
     "data": {
      "text/plain": [
       "dtype: str\n",
       "Rows: ?\n",
       "['https://www.hardtofind.com.au/70066_hardcandy-shockdrop-case-for-ipad-air', ... ]"
      ]
     },
     "execution_count": 24,
     "metadata": {},
     "output_type": "execute_result"
    }
   ],
   "source": [
    "gifts_sf[gifts_sf['SKU'] == '70066']['Purchase URL']"
   ]
  },
  {
   "cell_type": "code",
   "execution_count": 25,
   "metadata": {
    "collapsed": false
   },
   "outputs": [
    {
     "data": {
      "text/plain": [
       "dtype: str\n",
       "Rows: ?\n",
       "['https://www.hardtofind.com.au/70063_hardcandy-shockdrop-poptop-case-for-ipad-air', ... ]"
      ]
     },
     "execution_count": 25,
     "metadata": {},
     "output_type": "execute_result"
    }
   ],
   "source": [
    "gifts_sf[gifts_sf['SKU'] == '70063']['Purchase URL']"
   ]
  },
  {
   "cell_type": "code",
   "execution_count": 40,
   "metadata": {
    "collapsed": false
   },
   "outputs": [
    {
     "data": {
      "text/plain": [
       "dtype: str\n",
       "Rows: ?\n",
       "['https://www.hardtofind.com.au/120955_golf-cufflinks', ... ]"
      ]
     },
     "execution_count": 40,
     "metadata": {},
     "output_type": "execute_result"
    }
   ],
   "source": [
    "gifts_sf[gifts_sf['SKU'] == '120955']['Purchase URL']"
   ]
  }
 ],
 "metadata": {
  "kernelspec": {
   "display_name": "Python [gl-env]",
   "language": "python",
   "name": "Python [gl-env]"
  },
  "language_info": {
   "codemirror_mode": {
    "name": "ipython",
    "version": 2
   },
   "file_extension": ".py",
   "mimetype": "text/x-python",
   "name": "python",
   "nbconvert_exporter": "python",
   "pygments_lexer": "ipython2",
   "version": "2.7.12"
  }
 },
 "nbformat": 4,
 "nbformat_minor": 0
}
